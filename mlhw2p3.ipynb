{
  "nbformat": 4,
  "nbformat_minor": 0,
  "metadata": {
    "colab": {
      "name": "mlhw2p3.ipynb",
      "provenance": [],
      "authorship_tag": "ABX9TyNHmO79hq1yF7pco9LAj+DH"
    },
    "kernelspec": {
      "name": "python3",
      "display_name": "Python 3"
    }
  },
  "cells": [
    {
      "cell_type": "markdown",
      "metadata": {
        "id": "O6EDfiFJsJzM",
        "colab_type": "text"
      },
      "source": [
        "Import glucose dataset"
      ]
    },
    {
      "cell_type": "code",
      "metadata": {
        "id": "WcoyMWQia4gR",
        "colab_type": "code",
        "colab": {}
      },
      "source": [
        "import numpy as np \n",
        "import matplotlib\n",
        "import matplotlib.pyplot as plt\n",
        "import pandas as pd \n",
        "from sklearn import datasets\n",
        "\n",
        "# Load the diabetes dataset\n",
        "diabetes = datasets.load_diabetes()\n",
        "X = diabetes.data\n",
        "y = diabetes.target\n",
        "\n",
        "samp, natt = X.shape"
      ],
      "execution_count": 0,
      "outputs": []
    },
    {
      "cell_type": "markdown",
      "metadata": {
        "id": "aqET_xvjKNfJ",
        "colab_type": "text"
      },
      "source": [
        "Error Plotting"
      ]
    },
    {
      "cell_type": "code",
      "metadata": {
        "colab_type": "code",
        "id": "wiUJn6CwePms",
        "colab": {}
      },
      "source": [
        "kwargs = {'linewidth' : 3.5}\n",
        "font = {'weight' : 'normal', 'size' : 24}\n",
        "matplotlib.rc('font', **font)\n",
        "\n",
        "def error_plot(y, yscale='log'):\n",
        "  plt.figure(figsize=(5,5))\n",
        "  plt.xlabel('Iteration')\n",
        "  plt.ylabel('Error')\n",
        "  plt.yscale(yscale)\n",
        "  plt.plot(range(len(y)), y, **kwargs)"
      ],
      "execution_count": 0,
      "outputs": []
    },
    {
      "cell_type": "markdown",
      "metadata": {
        "id": "9CRzTuimLOxf",
        "colab_type": "text"
      },
      "source": [
        "Gradient Descent"
      ]
    },
    {
      "cell_type": "code",
      "metadata": {
        "id": "ZHO3FUWcPsPp",
        "colab_type": "code",
        "colab": {}
      },
      "source": [
        "def MSE(X,y,w):\n",
        "  return 0.5*np.linalg.norm(X.dot(w)-y)**2\n",
        "\n",
        "def gradientDescent(X,y,theta,iters,alpha):\n",
        "    weights = [theta]\n",
        "    m = len(y)\n",
        "    for _ in range(iters):\n",
        "        h = X.dot(weights[-1])\n",
        "        loss = h - y\n",
        "        # Gradient Calculation\n",
        "        gradient = X.T.dot(loss)\n",
        "        # Changing Values of B using Gradient\n",
        "        weights.append(weights[-1] - alpha * gradient)    \n",
        "    return weights"
      ],
      "execution_count": 0,
      "outputs": []
    },
    {
      "cell_type": "code",
      "metadata": {
        "id": "yvs3Gaanc3N7",
        "colab_type": "code",
        "colab": {}
      },
      "source": [
        "def get_y_pred(X,w):\n",
        "  y_pred = np.dot(X,w)\n",
        "  return y_pred"
      ],
      "execution_count": 0,
      "outputs": []
    },
    {
      "cell_type": "markdown",
      "metadata": {
        "id": "PMGa7UptWKJo",
        "colab_type": "text"
      },
      "source": [
        "Split into into testing and training sets"
      ]
    },
    {
      "cell_type": "code",
      "metadata": {
        "id": "Z2dmmRpXLQwB",
        "colab_type": "code",
        "outputId": "f91699be-45d2-4911-c7cf-699a66c35096",
        "colab": {
          "base_uri": "https://localhost:8080/",
          "height": 104
        }
      },
      "source": [
        "d = X.shape[1]\n",
        "\n",
        "w0 = np.zeros(d+1)\n",
        "print(d+1)\n",
        "num_of_rows_x = int(np.round(X.shape[0]) * 0.8)\n",
        "\n",
        "ones = np.ones((X.shape[0],1))\n",
        "newX = np.hstack((ones,X))\n",
        "\n",
        "train_X = newX[:num_of_rows_x]\n",
        "test_X = newX[num_of_rows_x:] \n",
        "\n",
        "num_of_rows_y = int(np.round(y.shape[0]) * 0.8)\n",
        "\n",
        "train_y = y[:num_of_rows_y]\n",
        "test_y = y[num_of_rows_y:]\n",
        "\n",
        "print(\"X_train shape -> {}\".format(train_X.shape))\n",
        "print(\"y_train shape -> {}\".format(train_y.shape))\n",
        "print(\"X_test shape -> {}\".format(test_X.shape))\n",
        "print(\"y_test shape -> {}\".format(test_y.shape))"
      ],
      "execution_count": 0,
      "outputs": [
        {
          "output_type": "stream",
          "text": [
            "11\n",
            "X_train shape -> (353, 11)\n",
            "y_train shape -> (353,)\n",
            "X_test shape -> (89, 11)\n",
            "y_test shape -> (89,)\n"
          ],
          "name": "stdout"
        }
      ]
    },
    {
      "cell_type": "markdown",
      "metadata": {
        "id": "0xhsgqDSWdGN",
        "colab_type": "text"
      },
      "source": [
        "Find linear regression of the training data"
      ]
    },
    {
      "cell_type": "code",
      "metadata": {
        "id": "KthAjZWFWhIQ",
        "colab_type": "code",
        "colab": {}
      },
      "source": [
        "ws = gradientDescent(train_X, train_y, w0, 1000, 0.005)\n",
        "final_weights = ws[-1]\n",
        "\n",
        "y_pred = get_y_pred(test_X, final_weights)"
      ],
      "execution_count": 0,
      "outputs": []
    },
    {
      "cell_type": "markdown",
      "metadata": {
        "id": "7DmVHNUNbpa_",
        "colab_type": "text"
      },
      "source": [
        "Error plot for training data"
      ]
    },
    {
      "cell_type": "code",
      "metadata": {
        "id": "qUoJ-lQxbooD",
        "colab_type": "code",
        "outputId": "ab17b73e-dc29-4bf0-c834-4af6a1c1b66c",
        "colab": {
          "base_uri": "https://localhost:8080/",
          "height": 362
        }
      },
      "source": [
        "error = lambda w: MSE(train_X,train_y,w)\n",
        "error_plot([error(w) for w in ws])"
      ],
      "execution_count": 0,
      "outputs": [
        {
          "output_type": "display_data",
          "data": {
            "image/png": "[encoded data removed]",
            "text/plain": [
              "<Figure size 360x360 with 1 Axes>"
            ]
          },
          "metadata": {
            "tags": []
          }
        }
      ]
    },
    {
      "cell_type": "code",
      "metadata": {
        "id": "_Lwy5EYhTdrL",
        "colab_type": "code",
        "outputId": "5ccccc18-9afc-4cb2-9383-6844732ed14d",
        "colab": {
          "base_uri": "https://localhost:8080/",
          "height": 34
        }
      },
      "source": [
        "mse = MSE(test_X,test_y,final_weights)\n",
        "print(mse)"
      ],
      "execution_count": 0,
      "outputs": [
        {
          "output_type": "stream",
          "text": [
            "133443.95692934337\n"
          ],
          "name": "stdout"
        }
      ]
    },
    {
      "cell_type": "markdown",
      "metadata": {
        "id": "it-XvlaLTLBW",
        "colab_type": "text"
      },
      "source": [
        "Calculating R2 value"
      ]
    },
    {
      "cell_type": "code",
      "metadata": {
        "id": "dA-ffBnUTQr4",
        "colab_type": "code",
        "outputId": "bc0116f7-6a82-45c5-c20b-ce865b488ab8",
        "colab": {
          "base_uri": "https://localhost:8080/",
          "height": 52
        }
      },
      "source": [
        "RSS = np.mean((y_pred-test_y)**2)/(np.std(test_y)**2)\n",
        "Rsq = 1-RSS\n",
        "print(\"RSS per sample = {0:f}\".format(RSS))\n",
        "print(\"R^2 =            {0:f}\".format(Rsq))"
      ],
      "execution_count": 0,
      "outputs": [
        {
          "output_type": "stream",
          "text": [
            "RSS per sample = 0.466965\n",
            "R^2 =            0.533035\n"
          ],
          "name": "stdout"
        }
      ]
    },
    {
      "cell_type": "markdown",
      "metadata": {
        "id": "jT4QREveierf",
        "colab_type": "text"
      },
      "source": [
        "SK Learn"
      ]
    },
    {
      "cell_type": "code",
      "metadata": {
        "id": "XQSvMO7EigOn",
        "colab_type": "code",
        "outputId": "35b8e713-2791-4718-f11d-9d8ac6ccfdd1",
        "colab": {
          "base_uri": "https://localhost:8080/",
          "height": 52
        }
      },
      "source": [
        "from sklearn.linear_model import LinearRegression\n",
        "from sklearn.metrics import mean_squared_error, r2_score\n",
        "\n",
        "regression_model = LinearRegression()\n",
        "\n",
        "# Fit the data(train the model)\n",
        "regression_model.fit(train_X, train_y)\n",
        "# Predict\n",
        "y_predicted = regression_model.predict(test_X)\n",
        "\n",
        "# model evaluation\n",
        "rmse = mean_squared_error(test_y, y_predicted)\n",
        "print (rmse)\n",
        "r2 = r2_score(test_y, y_predicted)\n",
        "print(r2)"
      ],
      "execution_count": 0,
      "outputs": [
        {
          "output_type": "stream",
          "text": [
            "2929.8869734402206\n",
            "0.5437570976176231\n"
          ],
          "name": "stdout"
        }
      ]
    }
  ]
}