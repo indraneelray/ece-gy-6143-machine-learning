{
  "nbformat": 4,
  "nbformat_minor": 0,
  "metadata": {
    "colab": {
      "name": "ml_a1q3.ipynb",
      "provenance": [],
      "authorship_tag": "ABX9TyN3WL9abg0PYgIhLNR2Dnqu",
      "include_colab_link": true
    },
    "kernelspec": {
      "name": "python3",
      "display_name": "Python 3"
    }
  },
  "cells": [
    {
      "cell_type": "markdown",
      "metadata": {
        "id": "view-in-github",
        "colab_type": "text"
      },
      "source": [
        "<a href=\"https://colab.research.google.com/github/indraneelray/ece-gy-6143-machine-learning/blob/master/ml_a1q3.ipynb\" target=\"_parent\"><img src=\"https://colab.research.google.com/assets/colab-badge.svg\" alt=\"Open In Colab\"/></a>"
      ]
    },
    {
      "cell_type": "code",
      "metadata": {
        "id": "CcnSV_f-Cc-D",
        "colab_type": "code",
        "outputId": "96ad32e0-160d-40c8-e711-6739f56917a6",
        "colab": {
          "base_uri": "https://localhost:8080/",
          "height": 303
        }
      },
      "source": [
        "import numpy as np \n",
        "import pandas as pd\n",
        "import matplotlib.pyplot as plt\n",
        "import seaborn as sns; sns.set()\n",
        "\n",
        "#size\n",
        "n = 10000\n",
        "\n",
        "# Define dimension. \n",
        "d = 3\n",
        "\n",
        "# Set mean vector. \n",
        "m = np.zeros(d)\n",
        "\n",
        "# Set covariance function. \n",
        "K = np.eye(d)\n",
        "\n",
        "# Number of samples. \n",
        "n = 10000\n",
        "\n",
        "z = np.random.multivariate_normal(mean=m.reshape(d,), cov=K, size=n)\n",
        "distribution = np.linalg.norm(z, axis=1)\n",
        "%matplotlib inline\n",
        "plt.hist(distribution, density=True, bins=130)\n",
        "plt.ylabel('Probability');\n",
        "\n",
        "std = np.std(distribution)\n",
        "mean = np.mean(distribution)\n",
        "print(std)\n",
        "print(mean)"
      ],
      "execution_count": 0,
      "outputs": [
        {
          "output_type": "stream",
          "text": [
            "0.6741435169679137\n",
            "1.5884168392508131\n"
          ],
          "name": "stdout"
        },
        {
          "output_type": "display_data",
          "data": {
            "image/png": "[encoded data removed]",
            "text/plain": [
              "<Figure size 432x288 with 1 Axes>"
            ]
          },
          "metadata": {
            "tags": []
          }
        }
      ]
    },
    {
      "cell_type": "code",
      "metadata": {
        "id": "afyIGWdMDLtf",
        "colab_type": "code",
        "colab": {}
      },
      "source": [
        "def graph_mean_std(d):\n",
        "  m = np.zeros(d)\n",
        "\n",
        "  # Set covariance function. \n",
        "  K = np.eye(d)\n",
        "\n",
        "  # Number of samples. \n",
        "  n = 10000\n",
        "  z = np.random.multivariate_normal(mean=m.reshape(d,), cov=K, size=n)\n",
        "  distribution = np.linalg.norm(z, axis=1)\n",
        "  %matplotlib inline\n",
        "  #plt.hist(distribution, density=True, bins=130)\n",
        "  plt.ylabel('Probability')\n",
        "  std = np.std(distribution)\n",
        "  mean = np.mean(distribution)\n",
        "  return std, mean"
      ],
      "execution_count": 0,
      "outputs": []
    },
    {
      "cell_type": "code",
      "metadata": {
        "id": "b6ZyNl5VIIZ8",
        "colab_type": "code",
        "outputId": "2aaffc7a-1c6c-4be2-96b7-6a160026f76d",
        "colab": {
          "base_uri": "https://localhost:8080/",
          "height": 344
        }
      },
      "source": [
        "x1 = np.logspace(1, 10, 5, endpoint=True, base=2)\n",
        "x1 = x1.astype(int)\n",
        "print(x1)\n",
        "stds = []\n",
        "means = []\n",
        "for d in x1:\n",
        "  std, mean = graph_mean_std(d)  \n",
        "  stds.append(std)\n",
        "  means.append(mean)\n",
        "\n",
        "print(stds)\n",
        "new_frame = pd.DataFrame()\n",
        "new_frame['Dimension']=x1\n",
        "new_frame['standard deviation']=stds\n",
        "new_frame['mean']=means\n",
        "#plt.plot(x1, stds)\n",
        "#plt.xlabel(\"dimensions\")\n",
        "#plt.ylabel(\"std deviation\")\n",
        "line_plot = new_frame.set_index('Dimension')\n",
        "#plt.figure(figsize=(20,15))\n",
        "sns.lineplot(data=line_plot)\n",
        "plt.xticks(rotation=15)\n",
        "new_frame.head(5)\n",
        "print(means)\n",
        "\n",
        "  "
      ],
      "execution_count": 0,
      "outputs": [
        {
          "output_type": "stream",
          "text": [
            "[   2    9   45  215 1024]\n",
            "[0.6575267099660754, 0.6999310532151997, 0.7025707518412967, 0.7100558238087042, 0.695781261838696]\n",
            "[1.252553281661182, 2.9157026328423408, 6.6679032330843695, 14.648597840258136, 31.996065897385193]\n"
          ],
          "name": "stdout"
        },
        {
          "output_type": "display_data",
          "data": {
            "image/png": "[encoded data removed]",
            "text/plain": [
              "<Figure size 432x288 with 1 Axes>"
            ]
          },
          "metadata": {
            "tags": []
          }
        }
      ]
    },
    {
      "cell_type": "markdown",
      "metadata": {
        "id": "J3vCK-DQfKFv",
        "colab_type": "text"
      },
      "source": [
        "d) We conclude standard deviation does not change with increasing dimensionality and mean increases.\n"
      ]
    }
  ]
}
